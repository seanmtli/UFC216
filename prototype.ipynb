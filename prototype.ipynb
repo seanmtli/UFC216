{
 "cells": [
  {
   "cell_type": "code",
   "execution_count": 1,
   "id": "dec22054",
   "metadata": {},
   "outputs": [],
   "source": [
    "import numpy as np\n",
    "import pandas as pd\n",
    "import seaborn as sns"
   ]
  },
  {
   "cell_type": "code",
   "execution_count": 3,
   "id": "5d5a21db",
   "metadata": {
    "scrolled": true
   },
   "outputs": [
    {
     "name": "stdout",
     "output_type": "stream",
     "text": [
      "(4896, 119)\n"
     ]
    },
    {
     "data": {
      "text/html": [
       "<div>\n",
       "<style scoped>\n",
       "    .dataframe tbody tr th:only-of-type {\n",
       "        vertical-align: middle;\n",
       "    }\n",
       "\n",
       "    .dataframe tbody tr th {\n",
       "        vertical-align: top;\n",
       "    }\n",
       "\n",
       "    .dataframe thead th {\n",
       "        text-align: right;\n",
       "    }\n",
       "</style>\n",
       "<table border=\"1\" class=\"dataframe\">\n",
       "  <thead>\n",
       "    <tr style=\"text-align: right;\">\n",
       "      <th></th>\n",
       "      <th>R_fighter</th>\n",
       "      <th>B_fighter</th>\n",
       "      <th>R_odds</th>\n",
       "      <th>B_odds</th>\n",
       "      <th>R_ev</th>\n",
       "      <th>B_ev</th>\n",
       "      <th>date</th>\n",
       "      <th>location</th>\n",
       "      <th>country</th>\n",
       "      <th>Winner</th>\n",
       "      <th>...</th>\n",
       "      <th>finish_details</th>\n",
       "      <th>finish_round</th>\n",
       "      <th>finish_round_time</th>\n",
       "      <th>total_fight_time_secs</th>\n",
       "      <th>r_dec_odds</th>\n",
       "      <th>b_dec_odds</th>\n",
       "      <th>r_sub_odds</th>\n",
       "      <th>b_sub_odds</th>\n",
       "      <th>r_ko_odds</th>\n",
       "      <th>b_ko_odds</th>\n",
       "    </tr>\n",
       "  </thead>\n",
       "  <tbody>\n",
       "    <tr>\n",
       "      <th>0</th>\n",
       "      <td>Thiago Santos</td>\n",
       "      <td>Johnny Walker</td>\n",
       "      <td>-150.0</td>\n",
       "      <td>130</td>\n",
       "      <td>66.666667</td>\n",
       "      <td>130.000000</td>\n",
       "      <td>2021-10-02</td>\n",
       "      <td>Las Vegas, Nevada, USA</td>\n",
       "      <td>USA</td>\n",
       "      <td>Red</td>\n",
       "      <td>...</td>\n",
       "      <td>NaN</td>\n",
       "      <td>5.0</td>\n",
       "      <td>5:00</td>\n",
       "      <td>1500.0</td>\n",
       "      <td>800.0</td>\n",
       "      <td>900.0</td>\n",
       "      <td>2000.0</td>\n",
       "      <td>1600.0</td>\n",
       "      <td>-110.0</td>\n",
       "      <td>175.0</td>\n",
       "    </tr>\n",
       "    <tr>\n",
       "      <th>1</th>\n",
       "      <td>Alex Oliveira</td>\n",
       "      <td>Niko Price</td>\n",
       "      <td>170.0</td>\n",
       "      <td>-200</td>\n",
       "      <td>170.000000</td>\n",
       "      <td>50.000000</td>\n",
       "      <td>2021-10-02</td>\n",
       "      <td>Las Vegas, Nevada, USA</td>\n",
       "      <td>USA</td>\n",
       "      <td>Blue</td>\n",
       "      <td>...</td>\n",
       "      <td>NaN</td>\n",
       "      <td>3.0</td>\n",
       "      <td>5:00</td>\n",
       "      <td>900.0</td>\n",
       "      <td>450.0</td>\n",
       "      <td>350.0</td>\n",
       "      <td>700.0</td>\n",
       "      <td>1100.0</td>\n",
       "      <td>550.0</td>\n",
       "      <td>120.0</td>\n",
       "    </tr>\n",
       "    <tr>\n",
       "      <th>2</th>\n",
       "      <td>Misha Cirkunov</td>\n",
       "      <td>Krzysztof Jotko</td>\n",
       "      <td>110.0</td>\n",
       "      <td>-130</td>\n",
       "      <td>110.000000</td>\n",
       "      <td>76.923077</td>\n",
       "      <td>2021-10-02</td>\n",
       "      <td>Las Vegas, Nevada, USA</td>\n",
       "      <td>USA</td>\n",
       "      <td>Blue</td>\n",
       "      <td>...</td>\n",
       "      <td>NaN</td>\n",
       "      <td>3.0</td>\n",
       "      <td>5:00</td>\n",
       "      <td>900.0</td>\n",
       "      <td>550.0</td>\n",
       "      <td>275.0</td>\n",
       "      <td>275.0</td>\n",
       "      <td>1400.0</td>\n",
       "      <td>600.0</td>\n",
       "      <td>185.0</td>\n",
       "    </tr>\n",
       "    <tr>\n",
       "      <th>3</th>\n",
       "      <td>Alexander Hernandez</td>\n",
       "      <td>Mike Breeden</td>\n",
       "      <td>-675.0</td>\n",
       "      <td>475</td>\n",
       "      <td>14.814815</td>\n",
       "      <td>475.000000</td>\n",
       "      <td>2021-10-02</td>\n",
       "      <td>Las Vegas, Nevada, USA</td>\n",
       "      <td>USA</td>\n",
       "      <td>Red</td>\n",
       "      <td>...</td>\n",
       "      <td>Punch</td>\n",
       "      <td>1.0</td>\n",
       "      <td>1:20</td>\n",
       "      <td>80.0</td>\n",
       "      <td>175.0</td>\n",
       "      <td>900.0</td>\n",
       "      <td>500.0</td>\n",
       "      <td>3500.0</td>\n",
       "      <td>110.0</td>\n",
       "      <td>1100.0</td>\n",
       "    </tr>\n",
       "    <tr>\n",
       "      <th>4</th>\n",
       "      <td>Joe Solecki</td>\n",
       "      <td>Jared Gordon</td>\n",
       "      <td>-135.0</td>\n",
       "      <td>115</td>\n",
       "      <td>74.074074</td>\n",
       "      <td>115.000000</td>\n",
       "      <td>2021-10-02</td>\n",
       "      <td>Las Vegas, Nevada, USA</td>\n",
       "      <td>USA</td>\n",
       "      <td>Blue</td>\n",
       "      <td>...</td>\n",
       "      <td>NaN</td>\n",
       "      <td>3.0</td>\n",
       "      <td>5:00</td>\n",
       "      <td>900.0</td>\n",
       "      <td>165.0</td>\n",
       "      <td>200.0</td>\n",
       "      <td>400.0</td>\n",
       "      <td>1200.0</td>\n",
       "      <td>900.0</td>\n",
       "      <td>600.0</td>\n",
       "    </tr>\n",
       "  </tbody>\n",
       "</table>\n",
       "<p>5 rows × 119 columns</p>\n",
       "</div>"
      ],
      "text/plain": [
       "             R_fighter        B_fighter  R_odds  B_odds        R_ev  \\\n",
       "0        Thiago Santos    Johnny Walker  -150.0     130   66.666667   \n",
       "1        Alex Oliveira       Niko Price   170.0    -200  170.000000   \n",
       "2       Misha Cirkunov  Krzysztof Jotko   110.0    -130  110.000000   \n",
       "3  Alexander Hernandez     Mike Breeden  -675.0     475   14.814815   \n",
       "4          Joe Solecki     Jared Gordon  -135.0     115   74.074074   \n",
       "\n",
       "         B_ev        date                location country Winner  ...  \\\n",
       "0  130.000000  2021-10-02  Las Vegas, Nevada, USA     USA    Red  ...   \n",
       "1   50.000000  2021-10-02  Las Vegas, Nevada, USA     USA   Blue  ...   \n",
       "2   76.923077  2021-10-02  Las Vegas, Nevada, USA     USA   Blue  ...   \n",
       "3  475.000000  2021-10-02  Las Vegas, Nevada, USA     USA    Red  ...   \n",
       "4  115.000000  2021-10-02  Las Vegas, Nevada, USA     USA   Blue  ...   \n",
       "\n",
       "   finish_details finish_round finish_round_time  total_fight_time_secs  \\\n",
       "0             NaN          5.0              5:00                 1500.0   \n",
       "1             NaN          3.0              5:00                  900.0   \n",
       "2             NaN          3.0              5:00                  900.0   \n",
       "3           Punch          1.0              1:20                   80.0   \n",
       "4             NaN          3.0              5:00                  900.0   \n",
       "\n",
       "   r_dec_odds  b_dec_odds  r_sub_odds  b_sub_odds  r_ko_odds  b_ko_odds  \n",
       "0       800.0       900.0      2000.0      1600.0     -110.0      175.0  \n",
       "1       450.0       350.0       700.0      1100.0      550.0      120.0  \n",
       "2       550.0       275.0       275.0      1400.0      600.0      185.0  \n",
       "3       175.0       900.0       500.0      3500.0      110.0     1100.0  \n",
       "4       165.0       200.0       400.0      1200.0      900.0      600.0  \n",
       "\n",
       "[5 rows x 119 columns]"
      ]
     },
     "execution_count": 3,
     "metadata": {},
     "output_type": "execute_result"
    }
   ],
   "source": [
    "ufc = pd.read_csv(r\"archive/ufc-master.csv\")\n",
    "print(ufc.shape)\n",
    "ufc.head()"
   ]
  },
  {
   "cell_type": "code",
   "execution_count": 29,
   "id": "09d134dc",
   "metadata": {},
   "outputs": [
    {
     "data": {
      "text/plain": [
       "<AxesSubplot:xlabel='Winner', ylabel='R_odds'>"
      ]
     },
     "execution_count": 29,
     "metadata": {},
     "output_type": "execute_result"
    },
    {
     "data": {
      "image/png": "[encoded data removed]",
      "text/plain": [
       "<Figure size 432x288 with 1 Axes>"
      ]
     },
     "metadata": {
      "needs_background": "light"
     },
     "output_type": "display_data"
    }
   ],
   "source": [
    "sns.boxplot(x=\"Winner\", y=\"R_odds\", palette=[\"m\", \"g\"], data=ufc)"
   ]
  },
  {
   "cell_type": "code",
   "execution_count": 26,
   "id": "a9cf6d23",
   "metadata": {},
   "outputs": [
    {
     "data": {
      "text/plain": [
       "<AxesSubplot:xlabel='Winner', ylabel='B_avg_SIG_STR_landed'>"
      ]
     },
     "execution_count": 26,
     "metadata": {},
     "output_type": "execute_result"
    },
    {
     "data": {
      "image/png": "[encoded data removed]",
      "text/plain": [
       "<Figure size 432x288 with 1 Axes>"
      ]
     },
     "metadata": {
      "needs_background": "light"
     },
     "output_type": "display_data"
    }
   ],
   "source": [
    "sns.boxplot(x=\"Winner\", y=\"B_avg_SIG_STR_landed\", palette=[\"m\", \"g\"], data=ufc)"
   ]
  },
  {
   "cell_type": "code",
   "execution_count": 27,
   "id": "550cb9a4",
   "metadata": {},
   "outputs": [
    {
     "data": {
      "text/plain": [
       "<AxesSubplot:xlabel='Winner', ylabel='B_avg_SUB_ATT'>"
      ]
     },
     "execution_count": 27,
     "metadata": {},
     "output_type": "execute_result"
    },
    {
     "data": {
      "image/png": "[encoded data removed]",
      "text/plain": [
       "<Figure size 432x288 with 1 Axes>"
      ]
     },
     "metadata": {
      "needs_background": "light"
     },
     "output_type": "display_data"
    }
   ],
   "source": [
    "sns.boxplot(x=\"Winner\", y=\"B_avg_SUB_ATT\", palette=[\"m\", \"g\"], data=ufc)"
   ]
  },
  {
   "cell_type": "code",
   "execution_count": 28,
   "id": "89c59cd4",
   "metadata": {},
   "outputs": [
    {
     "data": {
      "text/plain": [
       "<AxesSubplot:xlabel='Winner', ylabel='B_avg_TD_landed'>"
      ]
     },
     "execution_count": 28,
     "metadata": {},
     "output_type": "execute_result"
    },
    {
     "data": {
      "image/png": "[encoded data removed]",
      "text/plain": [
       "<Figure size 432x288 with 1 Axes>"
      ]
     },
     "metadata": {
      "needs_background": "light"
     },
     "output_type": "display_data"
    }
   ],
   "source": [
    "sns.boxplot(x=\"Winner\", y=\"B_avg_TD_landed\", palette=[\"m\", \"g\"], data=ufc)"
   ]
  },
  {
   "cell_type": "code",
   "execution_count": 14,
   "id": "f45191aa",
   "metadata": {},
   "outputs": [
    {
     "name": "stderr",
     "output_type": "stream",
     "text": [
      "/var/folders/mm/72wqtbpj6bs8mkk5cb1c91p80000gp/T/ipykernel_2362/3275069530.py:7: SettingWithCopyWarning: \n",
      "A value is trying to be set on a copy of a slice from a DataFrame.\n",
      "Try using .loc[row_indexer,col_indexer] = value instead\n",
      "\n",
      "See the caveats in the documentation: https://pandas.pydata.org/pandas-docs/stable/user_guide/indexing.html#returning-a-view-versus-a-copy\n",
      "  sample[\"Winner\"] = [win[item] for item in sample[\"Winner\"]]\n",
      "/Users/seanli/opt/anaconda3/lib/python3.9/site-packages/pandas/util/_decorators.py:311: SettingWithCopyWarning: \n",
      "A value is trying to be set on a copy of a slice from a DataFrame\n",
      "\n",
      "See the caveats in the documentation: https://pandas.pydata.org/pandas-docs/stable/user_guide/indexing.html#returning-a-view-versus-a-copy\n",
      "  return func(*args, **kwargs)\n"
     ]
    },
    {
     "data": {
      "text/html": [
       "<div>\n",
       "<style scoped>\n",
       "    .dataframe tbody tr th:only-of-type {\n",
       "        vertical-align: middle;\n",
       "    }\n",
       "\n",
       "    .dataframe tbody tr th {\n",
       "        vertical-align: top;\n",
       "    }\n",
       "\n",
       "    .dataframe thead th {\n",
       "        text-align: right;\n",
       "    }\n",
       "</style>\n",
       "<table border=\"1\" class=\"dataframe\">\n",
       "  <thead>\n",
       "    <tr style=\"text-align: right;\">\n",
       "      <th></th>\n",
       "      <th>Winner</th>\n",
       "      <th>R_odds</th>\n",
       "      <th>B_odds</th>\n",
       "      <th>B_avg_SIG_STR_landed</th>\n",
       "      <th>R_avg_SIG_STR_landed</th>\n",
       "      <th>B_avg_SUB_ATT</th>\n",
       "      <th>R_avg_SUB_ATT</th>\n",
       "      <th>B_avg_TD_landed</th>\n",
       "      <th>R_avg_TD_landed</th>\n",
       "    </tr>\n",
       "  </thead>\n",
       "  <tbody>\n",
       "    <tr>\n",
       "      <th>0</th>\n",
       "      <td>1</td>\n",
       "      <td>-150.0</td>\n",
       "      <td>130</td>\n",
       "      <td>3.42</td>\n",
       "      <td>3.95</td>\n",
       "      <td>0.7</td>\n",
       "      <td>0.1</td>\n",
       "      <td>0.24</td>\n",
       "      <td>0.61</td>\n",
       "    </tr>\n",
       "    <tr>\n",
       "      <th>1</th>\n",
       "      <td>0</td>\n",
       "      <td>170.0</td>\n",
       "      <td>-200</td>\n",
       "      <td>5.16</td>\n",
       "      <td>2.97</td>\n",
       "      <td>0.8</td>\n",
       "      <td>0.5</td>\n",
       "      <td>0.79</td>\n",
       "      <td>2.27</td>\n",
       "    </tr>\n",
       "    <tr>\n",
       "      <th>2</th>\n",
       "      <td>0</td>\n",
       "      <td>110.0</td>\n",
       "      <td>-130</td>\n",
       "      <td>2.92</td>\n",
       "      <td>3.77</td>\n",
       "      <td>0.1</td>\n",
       "      <td>1.7</td>\n",
       "      <td>1.15</td>\n",
       "      <td>4.48</td>\n",
       "    </tr>\n",
       "    <tr>\n",
       "      <th>3</th>\n",
       "      <td>1</td>\n",
       "      <td>-675.0</td>\n",
       "      <td>475</td>\n",
       "      <td>4.04</td>\n",
       "      <td>3.79</td>\n",
       "      <td>0.0</td>\n",
       "      <td>0.0</td>\n",
       "      <td>0.00</td>\n",
       "      <td>1.57</td>\n",
       "    </tr>\n",
       "    <tr>\n",
       "      <th>4</th>\n",
       "      <td>0</td>\n",
       "      <td>-135.0</td>\n",
       "      <td>115</td>\n",
       "      <td>5.22</td>\n",
       "      <td>2.64</td>\n",
       "      <td>0.0</td>\n",
       "      <td>0.6</td>\n",
       "      <td>2.54</td>\n",
       "      <td>2.85</td>\n",
       "    </tr>\n",
       "  </tbody>\n",
       "</table>\n",
       "</div>"
      ],
      "text/plain": [
       "   Winner  R_odds  B_odds  B_avg_SIG_STR_landed  R_avg_SIG_STR_landed  \\\n",
       "0       1  -150.0     130                  3.42                  3.95   \n",
       "1       0   170.0    -200                  5.16                  2.97   \n",
       "2       0   110.0    -130                  2.92                  3.77   \n",
       "3       1  -675.0     475                  4.04                  3.79   \n",
       "4       0  -135.0     115                  5.22                  2.64   \n",
       "\n",
       "   B_avg_SUB_ATT  R_avg_SUB_ATT  B_avg_TD_landed  R_avg_TD_landed  \n",
       "0            0.7            0.1             0.24             0.61  \n",
       "1            0.8            0.5             0.79             2.27  \n",
       "2            0.1            1.7             1.15             4.48  \n",
       "3            0.0            0.0             0.00             1.57  \n",
       "4            0.0            0.6             2.54             2.85  "
      ]
     },
     "execution_count": 14,
     "metadata": {},
     "output_type": "execute_result"
    }
   ],
   "source": [
    "from sklearn.model_selection import train_test_split\n",
    "from sklearn.preprocessing import StandardScaler\n",
    "\n",
    "sample = ufc[[\"Winner\", \"R_odds\", \"B_odds\", \"B_avg_SIG_STR_landed\", \"R_avg_SIG_STR_landed\", \"B_avg_SUB_ATT\", \"R_avg_SUB_ATT\", \"B_avg_TD_landed\", \"R_avg_TD_landed\"]]\n",
    "\n",
    "win = {\"Red\" : 1, \"Blue\" : 0}\n",
    "sample[\"Winner\"] = [win[item] for item in sample[\"Winner\"]]\n",
    "\n",
    "sample.dropna(inplace = True)\n",
    "\n",
    "data_raw = sample.drop(columns=[\"Winner\"])\n",
    "#standard scaling all data to get into 0 mean and unit variance\n",
    "data = StandardScaler().fit_transform(data_raw)\n",
    "target = sample[\"Winner\"]\n",
    "\n",
    "train_data, test_data, train_target, test_target = train_test_split(data, target, test_size=0.25, random_state=216)\n",
    "\n",
    "sample.head()"
   ]
  },
  {
   "cell_type": "code",
   "execution_count": 19,
   "id": "aa5f1fdf",
   "metadata": {},
   "outputs": [
    {
     "name": "stdout",
     "output_type": "stream",
     "text": [
      "0.6607883817427386\n"
     ]
    },
    {
     "data": {
      "text/plain": [
       "<sklearn.metrics._plot.confusion_matrix.ConfusionMatrixDisplay at 0x7fd44e1fd2b0>"
      ]
     },
     "execution_count": 19,
     "metadata": {},
     "output_type": "execute_result"
    },
    {
     "data": {
      "image/png": "[encoded data removed]",
      "text/plain": [
       "<Figure size 432x288 with 2 Axes>"
      ]
     },
     "metadata": {
      "needs_background": "light"
     },
     "output_type": "display_data"
    }
   ],
   "source": [
    "from sklearn.linear_model import LogisticRegression\n",
    "from sklearn.preprocessing import OneHotEncoder\n",
    "from sklearn.metrics import accuracy_score\n",
    "from sklearn.metrics import plot_confusion_matrix\n",
    "import matplotlib.pyplot as plt\n",
    "import numpy as np\n",
    "from sklearn.model_selection import RepeatedKFold\n",
    "from sklearn.model_selection import cross_val_score\n",
    "\n",
    "#creating the model\n",
    "logmod = LogisticRegression(max_iter = 1000)\n",
    "#prepare cross validation feature\n",
    "cv = RepeatedKFold(n_splits=10, n_repeats=3, random_state=1)\n",
    "#fit the model to training data\n",
    "logmod.fit(X = train_data, y = train_target)\n",
    "\n",
    "logscore = logmod.score(test_data, test_target)\n",
    "print(logscore)\n",
    "plot_confusion_matrix(logmod, test_data, test_target)"
   ]
  },
  {
   "cell_type": "code",
   "execution_count": 21,
   "id": "637d13d2-c3d2-4e39-ac82-fa9f2195d339",
   "metadata": {},
   "outputs": [
    {
     "name": "stdout",
     "output_type": "stream",
     "text": [
      "Accuracy: 0.655 (0.047)\n"
     ]
    }
   ],
   "source": [
    "# evaluate model\n",
    "scores = cross_val_score(logmod, test_data, test_target, scoring='accuracy', cv=cv, n_jobs=-1)\n",
    "# report performance\n",
    "print('Accuracy: %.3f (%.3f)' % (np.mean(scores), np.std(scores)))"
   ]
  },
  {
   "cell_type": "code",
   "execution_count": 16,
   "id": "a5cbc73f-ca74-4e04-aacf-d2d274ee823b",
   "metadata": {},
   "outputs": [
    {
     "name": "stdout",
     "output_type": "stream",
     "text": [
      "MSE: 0.3392116182572614 r^2: -0.39144022458816696\n"
     ]
    }
   ],
   "source": [
    "#more metrics to evaluate model\n",
    "from sklearn.metrics import mean_squared_error\n",
    "from sklearn.metrics import r2_score\n",
    "\n",
    "mseLog = mean_squared_error(test_target, logmod.predict(test_data))\n",
    "r2Log = r2_score(test_target, logmod.predict(test_data))\n",
    "print(\"MSE:\", mseLog, \"r^2:\", r2Log)"
   ]
  },
  {
   "cell_type": "code",
   "execution_count": 17,
   "id": "4d42fa65",
   "metadata": {},
   "outputs": [
    {
     "name": "stdout",
     "output_type": "stream",
     "text": [
      "29\n",
      "0.6338174273858921\n"
     ]
    },
    {
     "data": {
      "text/plain": [
       "<sklearn.metrics._plot.confusion_matrix.ConfusionMatrixDisplay at 0x7fd44eed8070>"
      ]
     },
     "execution_count": 17,
     "metadata": {},
     "output_type": "execute_result"
    },
    {
     "data": {
      "image/png": "[encoded data removed]",
      "text/plain": [
       "<Figure size 432x288 with 2 Axes>"
      ]
     },
     "metadata": {
      "needs_background": "light"
     },
     "output_type": "display_data"
    }
   ],
   "source": [
    "from sklearn.model_selection import cross_validate\n",
    "from sklearn.model_selection import GridSearchCV\n",
    "from sklearn.neighbors import KNeighborsClassifier\n",
    "\n",
    "params_to_try = {\"n_neighbors\" : range(1, 30)}\n",
    "knn_search = GridSearchCV(estimator = KNeighborsClassifier(), param_grid = params_to_try)\n",
    "knn_search.fit(train_data, train_target)\n",
    "best_params = knn_search.best_params_[\"n_neighbors\"]\n",
    "nscore = knn_search.score(test_data, test_target)\n",
    "\n",
    "print(best_params)\n",
    "print(nscore)\n",
    "plot_confusion_matrix(knn_search, test_data, test_target)"
   ]
  },
  {
   "cell_type": "code",
   "execution_count": 9,
   "id": "7a6a0b66",
   "metadata": {},
   "outputs": [
    {
     "name": "stdout",
     "output_type": "stream",
     "text": [
      "[0]\n",
      "[[1.00000000e+00 2.22908406e-11]]\n",
      "[1]\n",
      "[[0.30769231 0.69230769]]\n"
     ]
    },
    {
     "name": "stderr",
     "output_type": "stream",
     "text": [
      "/Users/seanli/opt/anaconda3/lib/python3.9/site-packages/pandas/util/_decorators.py:311: SettingWithCopyWarning: \n",
      "A value is trying to be set on a copy of a slice from a DataFrame\n",
      "\n",
      "See the caveats in the documentation: https://pandas.pydata.org/pandas-docs/stable/user_guide/indexing.html#returning-a-view-versus-a-copy\n",
      "  return func(*args, **kwargs)\n"
     ]
    }
   ],
   "source": [
    "predict = ufc[[\"R_fighter\", \"B_fighter\", \"Winner\", \"R_odds\", \"B_odds\", \"B_avg_SIG_STR_landed\", \"R_avg_SIG_STR_landed\", \"B_avg_SUB_ATT\", \"R_avg_SUB_ATT\", \"B_avg_TD_landed\", \"R_avg_TD_landed\"]]\n",
    "predict.dropna(inplace = True)\n",
    "\n",
    "Rmcgregor = predict[predict[\"R_fighter\"] == \"Conor McGregor\"]\n",
    "Rmcgregor = Rmcgregor[[\"R_avg_SIG_STR_landed\", \"R_avg_SUB_ATT\", \"R_avg_TD_landed\"]]\n",
    "Rmcgregor = Rmcgregor.rename(columns = {\"R_avg_SIG_STR_landed\" : \"avg_SIG_STR_landed\", \"R_avg_SUB_ATT\" : \"avg_SUB_ATT\", \"R_avg_TD_landed\" : \"avg_TD_landed\"})\n",
    "\n",
    "Bmcgregor = predict[predict[\"B_fighter\"] == \"Conor McGregor\"]\n",
    "Bmcgregor = Bmcgregor[[\"B_avg_SIG_STR_landed\", \"B_avg_SUB_ATT\", \"B_avg_TD_landed\"]]\n",
    "Bmcgregor = Bmcgregor.rename(columns = {\"B_avg_SIG_STR_landed\" : \"avg_SIG_STR_landed\", \"B_avg_SUB_ATT\" : \"avg_SUB_ATT\", \"B_avg_TD_landed\" : \"avg_TD_landed\"})\n",
    "\n",
    "mcgregor = pd.concat([Rmcgregor, Bmcgregor])\n",
    "mcgregorstats = mcgregor.mean()\n",
    "mcgregorstats = mcgregorstats.rename({\"avg_SIG_STR_landed\" : \"R_avg_SIG_STR_landed\", \"avg_SUB_ATT\" : \"R_avg_SUB_ATT\", \"avg_TD_landed\" : \"R_avg_TD_landed\"})\n",
    "\n",
    "\n",
    "Rkhabib = predict[predict[\"R_fighter\"] == \"Khabib Nurmagomedov\"]\n",
    "Rkhabib = Rkhabib[[\"R_avg_SIG_STR_landed\", \"R_avg_SUB_ATT\", \"R_avg_TD_landed\"]]\n",
    "Rkhabib = Rkhabib.rename(columns = {\"R_avg_SIG_STR_landed\" : \"avg_SIG_STR_landed\", \"R_avg_SUB_ATT\" : \"avg_SUB_ATT\", \"R_avg_TD_landed\" : \"avg_TD_landed\"})\n",
    "\n",
    "Bkhabib = predict[predict[\"B_fighter\"] == \"Khabib Nurmagomedov\"]\n",
    "Bkhabib = Bkhabib[[\"B_avg_SIG_STR_landed\", \"B_avg_SUB_ATT\", \"B_avg_TD_landed\"]]\n",
    "Bkhabib = Bkhabib.rename(columns = {\"B_avg_SIG_STR_landed\" : \"avg_SIG_STR_landed\", \"B_avg_SUB_ATT\" : \"avg_SUB_ATT\", \"B_avg_TD_landed\" : \"avg_TD_landed\"})\n",
    "\n",
    "khabib = pd.concat([Rkhabib, Bkhabib])\n",
    "khabibstats = khabib.mean()\n",
    "khabibstats = khabibstats.rename({\"avg_SIG_STR_landed\" : \"B_avg_SIG_STR_landed\", \"avg_SUB_ATT\" : \"B_avg_SUB_ATT\", \"avg_TD_landed\" : \"B_avg_TD_landed\"})\n",
    "\n",
    "fight = pd.concat([mcgregorstats, khabibstats])\n",
    "fight[\"R_odds\"] = 165\n",
    "fight[\"B_odds\"] = -190\n",
    "fight = fight.to_frame().T\n",
    "\n",
    "print(logmod.predict(fight))\n",
    "print(logmod.predict_proba(fight))\n",
    "\n",
    "print(knn_search.predict(fight))\n",
    "print(knn_search.predict_proba(fight))"
   ]
  },
  {
   "cell_type": "code",
   "execution_count": null,
   "id": "50aa45c7",
   "metadata": {},
   "outputs": [],
   "source": [
    "#creating a deep learning model using Pytorch\n",
    "import torch\n",
    "import torchvision\n",
    "import torchvision.transforms as transforms\n",
    "import torch.nn as nn\n",
    "import torch.optim as optim"
   ]
  },
  {
   "cell_type": "code",
   "execution_count": null,
   "id": "6e42e2d9-3bb5-40bf-a50c-3ffdfa5dd00e",
   "metadata": {},
   "outputs": [],
   "source": []
  }
 ],
 "metadata": {
  "kernelspec": {
   "display_name": "Python 3 (ipykernel)",
   "language": "python",
   "name": "python3"
  },
  "language_info": {
   "codemirror_mode": {
    "name": "ipython",
    "version": 3
   },
   "file_extension": ".py",
   "mimetype": "text/x-python",
   "name": "python",
   "nbconvert_exporter": "python",
   "pygments_lexer": "ipython3",
   "version": "3.9.7"
  }
 },
 "nbformat": 4,
 "nbformat_minor": 5
}
